{
 "cells": [
  {
   "cell_type": "code",
   "execution_count": 1,
   "id": "2a5ed1e8",
   "metadata": {},
   "outputs": [],
   "source": [
    "import os\n",
    "import pandas as pd"
   ]
  },
  {
   "cell_type": "code",
   "execution_count": 2,
   "id": "f767d1be",
   "metadata": {},
   "outputs": [],
   "source": [
    "os.chdir('C:/Users/Shyam R/NER/final_csv_1')"
   ]
  },
  {
   "cell_type": "code",
   "execution_count": 3,
   "id": "8d869841",
   "metadata": {},
   "outputs": [],
   "source": [
    "# loading dataframes\n",
    "df1 = pd.read_csv('tagged_df.csv')\n",
    "df2 = pd.read_csv('short_abstract.csv')"
   ]
  },
  {
   "cell_type": "code",
   "execution_count": 4,
   "id": "a896fbb3",
   "metadata": {},
   "outputs": [],
   "source": [
    "# deleting unwanted columns\n",
    "df1.drop([\"Unnamed: 0\", \"tags\", \"counts\"], axis=1, inplace=True)\n",
    "df2.drop(\"Unnamed: 0\", axis=1, inplace=True)"
   ]
  },
  {
   "cell_type": "code",
   "execution_count": 5,
   "id": "be1c6719",
   "metadata": {},
   "outputs": [
    {
     "data": {
      "text/plain": [
       "False"
      ]
     },
     "execution_count": 5,
     "metadata": {},
     "output_type": "execute_result"
    }
   ],
   "source": [
    "df1['re_id'].equals(df2['resource_id'])"
   ]
  },
  {
   "cell_type": "code",
   "execution_count": 30,
   "id": "f9326eb1",
   "metadata": {},
   "outputs": [
    {
     "name": "stderr",
     "output_type": "stream",
     "text": [
      "C:\\Users\\Shyam R\\AppData\\Local\\Temp\\ipykernel_22756\\292985435.py:1: FutureWarning: The default value of regex will change from True to False in a future version.\n",
      "  df1['re_id'] = df1['re_id'].str.replace(r\"[\\\"\\'\\\\\\],]\", '')\n"
     ]
    }
   ],
   "source": [
    "# df1['re_id'] = df1['re_id'].str.replace(r\"[\\\"\\'\\\\\\],]\", '')"
   ]
  },
  {
   "cell_type": "code",
   "execution_count": 32,
   "id": "e545ca5a",
   "metadata": {},
   "outputs": [],
   "source": [
    "# df1.to_csv('tagged_df.csv')"
   ]
  },
  {
   "cell_type": "code",
   "execution_count": 6,
   "id": "4c3e3a3d",
   "metadata": {},
   "outputs": [
    {
     "data": {
      "text/html": [
       "<div>\n",
       "<style scoped>\n",
       "    .dataframe tbody tr th:only-of-type {\n",
       "        vertical-align: middle;\n",
       "    }\n",
       "\n",
       "    .dataframe tbody tr th {\n",
       "        vertical-align: top;\n",
       "    }\n",
       "\n",
       "    .dataframe thead th {\n",
       "        text-align: right;\n",
       "    }\n",
       "</style>\n",
       "<table border=\"1\" class=\"dataframe\">\n",
       "  <thead>\n",
       "    <tr style=\"text-align: right;\">\n",
       "      <th></th>\n",
       "      <th>Unnamed: 0.1</th>\n",
       "      <th>re_id</th>\n",
       "      <th>resources</th>\n",
       "      <th>meta_tags</th>\n",
       "    </tr>\n",
       "  </thead>\n",
       "  <tbody>\n",
       "    <tr>\n",
       "      <th>0</th>\n",
       "      <td>0</td>\n",
       "      <td>te&lt;&gt;భీష్మ_సుజాత&gt;</td>\n",
       "      <td>\"సుజాత'</td>\n",
       "      <td>person</td>\n",
       "    </tr>\n",
       "    <tr>\n",
       "      <th>1</th>\n",
       "      <td>1</td>\n",
       "      <td>te&lt;&gt;1949_కరాచీ_ఒప్పందం&gt;</td>\n",
       "      <td>\"'కాల్పుల విరమణ రేఖ రచన'</td>\n",
       "      <td>name</td>\n",
       "    </tr>\n",
       "    <tr>\n",
       "      <th>2</th>\n",
       "      <td>2</td>\n",
       "      <td>te&lt;&gt;మిషిమా_యుకియో(1925-1970)&gt;</td>\n",
       "      <td>\"'- ō'</td>\n",
       "      <td>unknown</td>\n",
       "    </tr>\n",
       "    <tr>\n",
       "      <th>3</th>\n",
       "      <td>3</td>\n",
       "      <td>te&lt;&gt;అంబాబాయి_యోగేశ్వరి_ఆలయం</td>\n",
       "      <td>\"'_ _'</td>\n",
       "      <td>unknown</td>\n",
       "    </tr>\n",
       "    <tr>\n",
       "      <th>4</th>\n",
       "      <td>4</td>\n",
       "      <td>te&lt;&gt;113_తాళ్ళూరు&gt;</td>\n",
       "      <td>\"'శ్రీమతి డేగల భువనేశ్వరి'</td>\n",
       "      <td>person</td>\n",
       "    </tr>\n",
       "    <tr>\n",
       "      <th>...</th>\n",
       "      <td>...</td>\n",
       "      <td>...</td>\n",
       "      <td>...</td>\n",
       "      <td>...</td>\n",
       "    </tr>\n",
       "    <tr>\n",
       "      <th>10512</th>\n",
       "      <td>10512</td>\n",
       "      <td>te&lt;&gt;శరద్_కుమార్(అథ్లెట్)&gt;</td>\n",
       "      <td>\"'టోక్యో ఒలింపిక్ 2020'</td>\n",
       "      <td>name</td>\n",
       "    </tr>\n",
       "    <tr>\n",
       "      <th>10513</th>\n",
       "      <td>10513</td>\n",
       "      <td>te&lt;&gt;శాసనోల్లంఘన_ఉద్యమం&gt;</td>\n",
       "      <td>\"'కాంగ్రెసు అనుబంధ సంస్థలు'</td>\n",
       "      <td>organization</td>\n",
       "    </tr>\n",
       "    <tr>\n",
       "      <th>10514</th>\n",
       "      <td>10514</td>\n",
       "      <td>te&lt;&gt;మసాచుసెట్స్_ఇన్u200cస్టిట్యూట్_ఆఫ్_టెక్నా...</td>\n",
       "      <td>\"'ఎంఐటీ ఇంజనీర్లు'</td>\n",
       "      <td>person</td>\n",
       "    </tr>\n",
       "    <tr>\n",
       "      <th>10515</th>\n",
       "      <td>10515</td>\n",
       "      <td>te&lt;&gt;భారత_హోం_వ్యవహారాల_మంత్రి&gt;</td>\n",
       "      <td>\"'అవును'</td>\n",
       "      <td>name</td>\n",
       "    </tr>\n",
       "    <tr>\n",
       "      <th>10516</th>\n",
       "      <td>10516</td>\n",
       "      <td>te&lt;&gt;కె.శివ_శంకర్&gt;</td>\n",
       "      <td>\"'కోవిడ్ -19'</td>\n",
       "      <td>name</td>\n",
       "    </tr>\n",
       "  </tbody>\n",
       "</table>\n",
       "<p>10517 rows × 4 columns</p>\n",
       "</div>"
      ],
      "text/plain": [
       "       Unnamed: 0.1                                              re_id  \\\n",
       "0                 0                                   te<>భీష్మ_సుజాత>   \n",
       "1                 1                            te<>1949_కరాచీ_ఒప్పందం>   \n",
       "2                 2                      te<>మిషిమా_యుకియో(1925-1970)>   \n",
       "3                 3                        te<>అంబాబాయి_యోగేశ్వరి_ఆలయం   \n",
       "4                 4                                  te<>113_తాళ్ళూరు>   \n",
       "...             ...                                                ...   \n",
       "10512         10512                          te<>శరద్_కుమార్(అథ్లెట్)>   \n",
       "10513         10513                            te<>శాసనోల్లంఘన_ఉద్యమం>   \n",
       "10514         10514   te<>మసాచుసెట్స్_ఇన్u200cస్టిట్యూట్_ఆఫ్_టెక్నా...   \n",
       "10515         10515                     te<>భారత_హోం_వ్యవహారాల_మంత్రి>   \n",
       "10516         10516                                  te<>కె.శివ_శంకర్>   \n",
       "\n",
       "                         resources     meta_tags  \n",
       "0                          \"సుజాత'        person  \n",
       "1         \"'కాల్పుల విరమణ రేఖ రచన'          name  \n",
       "2                           \"'- ō'       unknown  \n",
       "3                           \"'_ _'       unknown  \n",
       "4       \"'శ్రీమతి డేగల భువనేశ్వరి'        person  \n",
       "...                            ...           ...  \n",
       "10512      \"'టోక్యో ఒలింపిక్ 2020'          name  \n",
       "10513  \"'కాంగ్రెసు అనుబంధ సంస్థలు'  organization  \n",
       "10514           \"'ఎంఐటీ ఇంజనీర్లు'        person  \n",
       "10515                     \"'అవును'          name  \n",
       "10516                \"'కోవిడ్ -19'          name  \n",
       "\n",
       "[10517 rows x 4 columns]"
      ]
     },
     "execution_count": 6,
     "metadata": {},
     "output_type": "execute_result"
    }
   ],
   "source": [
    "df1"
   ]
  },
  {
   "cell_type": "code",
   "execution_count": 7,
   "id": "3ae2a838",
   "metadata": {},
   "outputs": [
    {
     "data": {
      "text/plain": [
       "False"
      ]
     },
     "execution_count": 7,
     "metadata": {},
     "output_type": "execute_result"
    }
   ],
   "source": [
    "df1['re_id'].equals(df2['resource_id'])"
   ]
  },
  {
   "cell_type": "code",
   "execution_count": 8,
   "id": "ac35b9fb",
   "metadata": {},
   "outputs": [
    {
     "name": "stdout",
     "output_type": "stream",
     "text": [
      "0                                         te<>భీష్మ_సుజాత>\n",
      "1                                  te<>1949_కరాచీ_ఒప్పందం>\n",
      "2                            te<>మిషిమా_యుకియో(1925-1970)>\n",
      "3                              te<>అంబాబాయి_యోగేశ్వరి_ఆలయం\n",
      "4                                        te<>113_తాళ్ళూరు>\n",
      "                               ...                        \n",
      "10512                            te<>శరద్_కుమార్(అథ్లెట్)>\n",
      "10513                              te<>శాసనోల్లంఘన_ఉద్యమం>\n",
      "10514     te<>మసాచుసెట్స్_ఇన్u200cస్టిట్యూట్_ఆఫ్_టెక్నా...\n",
      "10515                       te<>భారత_హోం_వ్యవహారాల_మంత్రి>\n",
      "10516                                    te<>కె.శివ_శంకర్>\n",
      "Name: re_id, Length: 10517, dtype: object\n"
     ]
    }
   ],
   "source": [
    "print(df1.re_id)"
   ]
  },
  {
   "cell_type": "code",
   "execution_count": 9,
   "id": "244dea7c",
   "metadata": {},
   "outputs": [
    {
     "name": "stdout",
     "output_type": "stream",
     "text": [
      "0                    bn<>%22হ্যাপি%22_ইন_গালোসেস>\n",
      "1         bn<>%22হ্যালো,_ওয়ার্ল্ড!%22_প্রোগ্রাম>\n",
      "2                bn<>'খোন-দ্কোন-ম্ছোগ-র্গ্যাল-পো>\n",
      "3               bn<>'খ্রুল-ঝিগ-সেং-গে-র্গ্যাব-পা>\n",
      "4             bn<>'গোস-লো-ত্সা-বা-গ্ঝোন-নু-দ্পাল>\n",
      "                           ...                   \n",
      "663407                       te<>ఇన్‌స్టాగ్రామ్‌>\n",
      "663408                         te<>ఆనంద్_ఇస్లామా>\n",
      "663409                           te<>యానం_జిల్లా>\n",
      "663410               te<>సుషాంత్_సింఘ్_రాజ్‌పుట్>\n",
      "663411                           te<>Vadde_caste>\n",
      "Name: resource_id, Length: 663412, dtype: object\n"
     ]
    }
   ],
   "source": [
    "print(df2.resource_id)"
   ]
  },
  {
   "cell_type": "code",
   "execution_count": 17,
   "id": "ad2ac37b",
   "metadata": {},
   "outputs": [
    {
     "data": {
      "text/plain": [
       "0        False\n",
       "1        False\n",
       "2        False\n",
       "3        False\n",
       "4        False\n",
       "         ...  \n",
       "10512    False\n",
       "10513    False\n",
       "10514    False\n",
       "10515    False\n",
       "10516    False\n",
       "Name: re_id, Length: 10517, dtype: bool"
      ]
     },
     "execution_count": 17,
     "metadata": {},
     "output_type": "execute_result"
    }
   ],
   "source": [
    "df1.re_id.isin(df2.resource_id)"
   ]
  },
  {
   "cell_type": "code",
   "execution_count": null,
   "id": "32afd3ee",
   "metadata": {},
   "outputs": [],
   "source": []
  }
 ],
 "metadata": {
  "kernelspec": {
   "display_name": "kemp",
   "language": "python",
   "name": "kemp"
  },
  "language_info": {
   "codemirror_mode": {
    "name": "ipython",
    "version": 3
   },
   "file_extension": ".py",
   "mimetype": "text/x-python",
   "name": "python",
   "nbconvert_exporter": "python",
   "pygments_lexer": "ipython3",
   "version": "3.9.12"
  }
 },
 "nbformat": 4,
 "nbformat_minor": 5
}
